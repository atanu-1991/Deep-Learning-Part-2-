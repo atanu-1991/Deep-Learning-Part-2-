{
  "nbformat": 4,
  "nbformat_minor": 0,
  "metadata": {
    "colab": {
      "provenance": []
    },
    "kernelspec": {
      "name": "python3",
      "display_name": "Python 3"
    },
    "language_info": {
      "name": "python"
    },
    "accelerator": "GPU",
    "gpuClass": "standard"
  },
  "cells": [
    {
      "cell_type": "code",
      "metadata": {
        "id": "3a4gAz9PjANw"
      },
      "source": [
        "import tensorflow as tf"
      ],
      "execution_count": 1,
      "outputs": []
    },
    {
      "cell_type": "code",
      "metadata": {
        "colab": {
          "base_uri": "https://localhost:8080/"
        },
        "id": "Jl38LcjyjXA-",
        "outputId": "e3d51004-9f86-42dd-9e76-8d5c7a613c27"
      },
      "source": [
        "tf.config.list_physical_devices(\"GPU\")"
      ],
      "execution_count": 2,
      "outputs": [
        {
          "output_type": "execute_result",
          "data": {
            "text/plain": [
              "[PhysicalDevice(name='/physical_device:GPU:0', device_type='GPU')]"
            ]
          },
          "metadata": {},
          "execution_count": 2
        }
      ]
    },
    {
      "cell_type": "markdown",
      "metadata": {
        "id": "J4QWHuGkkFP0"
      },
      "source": [
        "## A Simple classifier using keras's Sequential API"
      ]
    },
    {
      "cell_type": "markdown",
      "metadata": {
        "id": "zpa_8pFBkMO-"
      },
      "source": [
        "### Dataset MNIST\n",
        "\n",
        "* Its a dataset of handwritten digits\n",
        "* each data point it 2d array of 28x28\n",
        "* It has 10 classes 0-9\n",
        "* aka hello world for ANN"
      ]
    },
    {
      "cell_type": "code",
      "metadata": {
        "id": "MPwGkzYejd7m"
      },
      "source": [
        "import numpy as np\n",
        "import matplotlib.pyplot as plt\n",
        "import pandas as pd\n",
        "import tensorflow as tf\n",
        "import os"
      ],
      "execution_count": 3,
      "outputs": []
    },
    {
      "cell_type": "code",
      "metadata": {
        "id": "nTWnA5ZBkEZG",
        "colab": {
          "base_uri": "https://localhost:8080/"
        },
        "outputId": "271c8fdd-bc7a-4142-c305-8b778ee6e7be"
      },
      "source": [
        "f_mnist = tf.keras.datasets.fashion_mnist\n",
        "(X_train_full, y_train_full), (X_test, y_test) = f_mnist.load_data()"
      ],
      "execution_count": 4,
      "outputs": [
        {
          "output_type": "stream",
          "name": "stdout",
          "text": [
            "Downloading data from https://storage.googleapis.com/tensorflow/tf-keras-datasets/train-labels-idx1-ubyte.gz\n",
            "29515/29515 [==============================] - 0s 0us/step\n",
            "Downloading data from https://storage.googleapis.com/tensorflow/tf-keras-datasets/train-images-idx3-ubyte.gz\n",
            "26421880/26421880 [==============================] - 1s 0us/step\n",
            "Downloading data from https://storage.googleapis.com/tensorflow/tf-keras-datasets/t10k-labels-idx1-ubyte.gz\n",
            "5148/5148 [==============================] - 0s 0us/step\n",
            "Downloading data from https://storage.googleapis.com/tensorflow/tf-keras-datasets/t10k-images-idx3-ubyte.gz\n",
            "4422102/4422102 [==============================] - 0s 0us/step\n"
          ]
        }
      ]
    },
    {
      "cell_type": "code",
      "metadata": {
        "colab": {
          "base_uri": "https://localhost:8080/"
        },
        "id": "PICgLB5uk3vf",
        "outputId": "85f3abeb-d8bc-4d07-9b50-b02b4c275d9c"
      },
      "source": [
        "X_train_full.shape, X_train_full.dtype"
      ],
      "execution_count": 5,
      "outputs": [
        {
          "output_type": "execute_result",
          "data": {
            "text/plain": [
              "((60000, 28, 28), dtype('uint8'))"
            ]
          },
          "metadata": {},
          "execution_count": 5
        }
      ]
    },
    {
      "cell_type": "code",
      "metadata": {
        "colab": {
          "base_uri": "https://localhost:8080/"
        },
        "id": "t4t6pQDclGy0",
        "outputId": "c5702570-79bb-4230-a23b-d23da4cbed67"
      },
      "source": [
        "y_train_full.shape, y_train_full.dtype"
      ],
      "execution_count": 6,
      "outputs": [
        {
          "output_type": "execute_result",
          "data": {
            "text/plain": [
              "((60000,), dtype('uint8'))"
            ]
          },
          "metadata": {},
          "execution_count": 6
        }
      ]
    },
    {
      "cell_type": "code",
      "metadata": {
        "colab": {
          "base_uri": "https://localhost:8080/"
        },
        "id": "kqBtm1aXk9Kt",
        "outputId": "01f10318-5300-45be-9a15-508460a8ef9f"
      },
      "source": [
        "X_test.shape, X_test.dtype"
      ],
      "execution_count": 7,
      "outputs": [
        {
          "output_type": "execute_result",
          "data": {
            "text/plain": [
              "((10000, 28, 28), dtype('uint8'))"
            ]
          },
          "metadata": {},
          "execution_count": 7
        }
      ]
    },
    {
      "cell_type": "code",
      "metadata": {
        "colab": {
          "base_uri": "https://localhost:8080/"
        },
        "id": "yzhMEZvWlo3Y",
        "outputId": "e0186012-a4ad-43b9-d779-339fe19f547a"
      },
      "source": [
        "X_test.shape, y_test.shape"
      ],
      "execution_count": 8,
      "outputs": [
        {
          "output_type": "execute_result",
          "data": {
            "text/plain": [
              "((10000, 28, 28), (10000,))"
            ]
          },
          "metadata": {},
          "execution_count": 8
        }
      ]
    },
    {
      "cell_type": "code",
      "metadata": {
        "id": "BQZmDvbdlFze"
      },
      "source": [
        "X_valid, X_train = X_train_full[: 5000] / 255., X_train_full[5000: ]/255.\n",
        "y_valid, y_train = y_train_full[: 5000], y_train_full[5000:]\n",
        "\n",
        "X_test = X_test/255."
      ],
      "execution_count": 9,
      "outputs": []
    },
    {
      "cell_type": "code",
      "metadata": {
        "colab": {
          "base_uri": "https://localhost:8080/",
          "height": 265
        },
        "id": "J5boSdv1lwBs",
        "outputId": "44d79f86-d641-41af-fb66-751f3d3df949"
      },
      "source": [
        "plt.imshow(X_train[0], cmap=\"binary\")\n",
        "plt.axis(\"off\")\n",
        "plt.show()\n",
        "y_train[0]"
      ],
      "execution_count": 10,
      "outputs": [
        {
          "output_type": "display_data",
          "data": {
            "text/plain": [
              "<Figure size 432x288 with 1 Axes>"
            ],
            "image/png": "[encoded data removed]"
          },
          "metadata": {
            "needs_background": "light"
          }
        },
        {
          "output_type": "execute_result",
          "data": {
            "text/plain": [
              "4"
            ]
          },
          "metadata": {},
          "execution_count": 10
        }
      ]
    },
    {
      "cell_type": "code",
      "metadata": {
        "colab": {
          "base_uri": "https://localhost:8080/",
          "height": 884
        },
        "id": "_PCJYjS7l7kE",
        "outputId": "8200f2aa-48b9-4125-b58d-87754c27b4b7"
      },
      "source": [
        "import seaborn as sns\n",
        "plt.figure(figsize=(15,15))\n",
        "sns.heatmap(X_train[0], annot=True, cmap=\"binary\")"
      ],
      "execution_count": 11,
      "outputs": [
        {
          "output_type": "execute_result",
          "data": {
            "text/plain": [
              "<AxesSubplot:>"
            ]
          },
          "metadata": {},
          "execution_count": 11
        },
        {
          "output_type": "display_data",
          "data": {
            "text/plain": [
              "<Figure size 1080x1080 with 2 Axes>"
            ],
            "image/png": "[encoded data removed]"
          },
          "metadata": {
            "needs_background": "light"
          }
        }
      ]
    },
    {
      "cell_type": "code",
      "metadata": {
        "id": "mpqt_m5wmjL9"
      },
      "source": [
        "LAYERS = [\n",
        "          tf.keras.layers.Flatten(input_shape=[28, 28], name=\"inputLayer\"),\n",
        "          tf.keras.layers.Dense(300, activation=\"relu\", name=\"hiddenLayer1\"),\n",
        "          tf.keras.layers.Dense(100, activation=\"relu\", name=\"hiddenLayer2\"),\n",
        "          tf.keras.layers.Dense(10, activation=\"softmax\", name=\"outputLayer\"),\n",
        "          \n",
        "]"
      ],
      "execution_count": 12,
      "outputs": []
    },
    {
      "cell_type": "code",
      "metadata": {
        "id": "X0ggdEqds4oY"
      },
      "source": [
        "model = tf.keras.models.Sequential(LAYERS)"
      ],
      "execution_count": 13,
      "outputs": []
    },
    {
      "cell_type": "code",
      "metadata": {
        "colab": {
          "base_uri": "https://localhost:8080/"
        },
        "id": "JkRsdhTHs83X",
        "outputId": "cde8607a-069f-4080-a63b-3bd21277929b"
      },
      "source": [
        "model.layers"
      ],
      "execution_count": 14,
      "outputs": [
        {
          "output_type": "execute_result",
          "data": {
            "text/plain": [
              "[<keras.layers.reshaping.flatten.Flatten at 0x7fc20dbfd8b0>,\n",
              " <keras.layers.core.dense.Dense at 0x7fc20dc200a0>,\n",
              " <keras.layers.core.dense.Dense at 0x7fc20dc201f0>,\n",
              " <keras.layers.core.dense.Dense at 0x7fc20dc205b0>]"
            ]
          },
          "metadata": {},
          "execution_count": 14
        }
      ]
    },
    {
      "cell_type": "code",
      "metadata": {
        "colab": {
          "base_uri": "https://localhost:8080/"
        },
        "id": "uJLlB_-1tBiP",
        "outputId": "b21b6911-b36c-472b-8762-4d9b6f3a5235"
      },
      "source": [
        "model.summary()"
      ],
      "execution_count": 15,
      "outputs": [
        {
          "output_type": "stream",
          "name": "stdout",
          "text": [
            "Model: \"sequential\"\n",
            "_________________________________________________________________\n",
            " Layer (type)                Output Shape              Param #   \n",
            "=================================================================\n",
            " inputLayer (Flatten)        (None, 784)               0         \n",
            "                                                                 \n",
            " hiddenLayer1 (Dense)        (None, 300)               235500    \n",
            "                                                                 \n",
            " hiddenLayer2 (Dense)        (None, 100)               30100     \n",
            "                                                                 \n",
            " outputLayer (Dense)         (None, 10)                1010      \n",
            "                                                                 \n",
            "=================================================================\n",
            "Total params: 266,610\n",
            "Trainable params: 266,610\n",
            "Non-trainable params: 0\n",
            "_________________________________________________________________\n"
          ]
        }
      ]
    },
    {
      "cell_type": "code",
      "metadata": {
        "colab": {
          "base_uri": "https://localhost:8080/"
        },
        "id": "c5rOLc_2tFZo",
        "outputId": "878293c1-8315-402a-a748-bde8d93afa6d"
      },
      "source": [
        "784 * 300 + 300, 300 * 100 + 100, 100 * 10 + 10"
      ],
      "execution_count": 16,
      "outputs": [
        {
          "output_type": "execute_result",
          "data": {
            "text/plain": [
              "(235500, 30100, 1010)"
            ]
          },
          "metadata": {},
          "execution_count": 16
        }
      ]
    },
    {
      "cell_type": "code",
      "metadata": {
        "colab": {
          "base_uri": "https://localhost:8080/"
        },
        "id": "D23TwGe39m2t",
        "outputId": "9ff23f5c-2061-486d-d6e4-6a430a43e723"
      },
      "source": [
        "sum([784 * 300 + 300, 300 * 100 + 100, 100 * 10 + 10])"
      ],
      "execution_count": 17,
      "outputs": [
        {
          "output_type": "execute_result",
          "data": {
            "text/plain": [
              "266610"
            ]
          },
          "metadata": {},
          "execution_count": 17
        }
      ]
    },
    {
      "cell_type": "code",
      "metadata": {
        "colab": {
          "base_uri": "https://localhost:8080/"
        },
        "id": "xvgC89gg9_31",
        "outputId": "bf07fb4a-91e6-4413-ba08-0f1ef8958888"
      },
      "source": [
        "hidden1 = model.layers[1]\n",
        "\n",
        "model.get_layer(hidden1.name)"
      ],
      "execution_count": 18,
      "outputs": [
        {
          "output_type": "execute_result",
          "data": {
            "text/plain": [
              "<keras.layers.core.dense.Dense at 0x7fc20dc200a0>"
            ]
          },
          "metadata": {},
          "execution_count": 18
        }
      ]
    },
    {
      "cell_type": "code",
      "metadata": {
        "colab": {
          "base_uri": "https://localhost:8080/"
        },
        "id": "WHq61ykP-SZ9",
        "outputId": "696aed49-21d2-47f6-c2a5-981d08fae422"
      },
      "source": [
        "hidden1.get_weights()"
      ],
      "execution_count": 19,
      "outputs": [
        {
          "output_type": "execute_result",
          "data": {
            "text/plain": [
              "[array([[-0.02263111,  0.05280089,  0.00119988, ..., -0.04640739,\n",
              "         -0.03550503, -0.00719575],\n",
              "        [-0.05864768,  0.01462128, -0.06546018, ..., -0.00843047,\n",
              "          0.02277221,  0.0651859 ],\n",
              "        [ 0.03008918, -0.01501876, -0.02135432, ..., -0.02166475,\n",
              "          0.05634144, -0.06880047],\n",
              "        ...,\n",
              "        [ 0.02259474, -0.04503842,  0.01815014, ...,  0.00026748,\n",
              "         -0.01824288,  0.01327785],\n",
              "        [ 0.06242836, -0.00176674,  0.00626881, ..., -0.03220671,\n",
              "          0.02371226,  0.03260101],\n",
              "        [ 0.07379307,  0.03063516, -0.04028488, ..., -0.02946389,\n",
              "          0.05574459,  0.06793652]], dtype=float32),\n",
              " array([0., 0., 0., 0., 0., 0., 0., 0., 0., 0., 0., 0., 0., 0., 0., 0., 0.,\n",
              "        0., 0., 0., 0., 0., 0., 0., 0., 0., 0., 0., 0., 0., 0., 0., 0., 0.,\n",
              "        0., 0., 0., 0., 0., 0., 0., 0., 0., 0., 0., 0., 0., 0., 0., 0., 0.,\n",
              "        0., 0., 0., 0., 0., 0., 0., 0., 0., 0., 0., 0., 0., 0., 0., 0., 0.,\n",
              "        0., 0., 0., 0., 0., 0., 0., 0., 0., 0., 0., 0., 0., 0., 0., 0., 0.,\n",
              "        0., 0., 0., 0., 0., 0., 0., 0., 0., 0., 0., 0., 0., 0., 0., 0., 0.,\n",
              "        0., 0., 0., 0., 0., 0., 0., 0., 0., 0., 0., 0., 0., 0., 0., 0., 0.,\n",
              "        0., 0., 0., 0., 0., 0., 0., 0., 0., 0., 0., 0., 0., 0., 0., 0., 0.,\n",
              "        0., 0., 0., 0., 0., 0., 0., 0., 0., 0., 0., 0., 0., 0., 0., 0., 0.,\n",
              "        0., 0., 0., 0., 0., 0., 0., 0., 0., 0., 0., 0., 0., 0., 0., 0., 0.,\n",
              "        0., 0., 0., 0., 0., 0., 0., 0., 0., 0., 0., 0., 0., 0., 0., 0., 0.,\n",
              "        0., 0., 0., 0., 0., 0., 0., 0., 0., 0., 0., 0., 0., 0., 0., 0., 0.,\n",
              "        0., 0., 0., 0., 0., 0., 0., 0., 0., 0., 0., 0., 0., 0., 0., 0., 0.,\n",
              "        0., 0., 0., 0., 0., 0., 0., 0., 0., 0., 0., 0., 0., 0., 0., 0., 0.,\n",
              "        0., 0., 0., 0., 0., 0., 0., 0., 0., 0., 0., 0., 0., 0., 0., 0., 0.,\n",
              "        0., 0., 0., 0., 0., 0., 0., 0., 0., 0., 0., 0., 0., 0., 0., 0., 0.,\n",
              "        0., 0., 0., 0., 0., 0., 0., 0., 0., 0., 0., 0., 0., 0., 0., 0., 0.,\n",
              "        0., 0., 0., 0., 0., 0., 0., 0., 0., 0., 0.], dtype=float32)]"
            ]
          },
          "metadata": {},
          "execution_count": 19
        }
      ]
    },
    {
      "cell_type": "code",
      "metadata": {
        "id": "juP0chik-em0"
      },
      "source": [
        "weights, biases = hidden1.get_weights()"
      ],
      "execution_count": 20,
      "outputs": []
    },
    {
      "cell_type": "code",
      "metadata": {
        "colab": {
          "base_uri": "https://localhost:8080/"
        },
        "id": "qGRvou-q-pgz",
        "outputId": "c8e87094-e441-4ea4-c78e-927429bcdeed"
      },
      "source": [
        "weights.shape"
      ],
      "execution_count": 21,
      "outputs": [
        {
          "output_type": "execute_result",
          "data": {
            "text/plain": [
              "(784, 300)"
            ]
          },
          "metadata": {},
          "execution_count": 21
        }
      ]
    },
    {
      "cell_type": "code",
      "metadata": {
        "colab": {
          "base_uri": "https://localhost:8080/"
        },
        "id": "0DWCOg_J-rrT",
        "outputId": "e7986eba-cbda-4f6b-ac15-d89493f20a86"
      },
      "source": [
        "biases.shape"
      ],
      "execution_count": 22,
      "outputs": [
        {
          "output_type": "execute_result",
          "data": {
            "text/plain": [
              "(300,)"
            ]
          },
          "metadata": {},
          "execution_count": 22
        }
      ]
    },
    {
      "cell_type": "markdown",
      "metadata": {
        "id": "epmuWbThAGzw"
      },
      "source": [
        "$loss\\_function(actual, pred) = error$"
      ]
    },
    {
      "cell_type": "code",
      "metadata": {
        "id": "YChhnq-H-vnN"
      },
      "source": [
        "LOSS_FUNCTION = \"sparse_categorical_crossentropy\"\n",
        "OPTIMIZER = \"SGD\"\n",
        "METRICS = [\"accuracy\"]\n",
        "\n",
        "model.compile(loss=LOSS_FUNCTION,\n",
        "              optimizer=OPTIMIZER,\n",
        "              metrics=METRICS)\n"
      ],
      "execution_count": 23,
      "outputs": []
    },
    {
      "cell_type": "markdown",
      "metadata": {
        "id": "I6LlO6rFGe-O"
      },
      "source": [
        "### Important -\n",
        "\n",
        "* **Epochs**: Integer. \n",
        "    \n",
        "    Number of epochs to train the model. An epoch is an iteration over the entire x and y data provided. \n",
        "\n",
        "* **batch_size**: Integer or None. \n",
        "    \n",
        "    Number of samples per gradient update. If unspecified, batch_size will default to 32. \n",
        "    \n",
        "    *NOTE:* Do not specify the batch_size if your data is in the form of datasets, generators, or keras.utils.Sequence instances (since they generate batches).\n",
        "\n",
        "* **validation_batch_size**: Integer or None. \n",
        "\n",
        "    Number of samples per validation batch. \n",
        "    \n",
        "    If unspecified, will default to batch_size. \n",
        "    \n",
        "    *NOTE:* Do not specify the validation_batch_size if your data is in the form of datasets, generators, or keras.utils.Sequence instances (since they generate batches).\n",
        "\n",
        "[Reference](https://www.tensorflow.org/api_docs/python/tf/keras/Model?hl=zh-tw#fit)"
      ]
    },
    {
      "cell_type": "code",
      "metadata": {
        "colab": {
          "base_uri": "https://localhost:8080/"
        },
        "id": "2kAUBt2TGcYj",
        "outputId": "857b5809-f9c7-4b23-d727-5c68f3ac1c7b"
      },
      "source": [
        "EPOCHS = 5\n",
        "VALIDATION_SET = (X_valid, y_valid)\n",
        "\n",
        "history = model.fit(X_train, y_train, \n",
        "                    epochs=EPOCHS, \n",
        "                    validation_data=VALIDATION_SET)"
      ],
      "execution_count": 24,
      "outputs": [
        {
          "output_type": "stream",
          "name": "stdout",
          "text": [
            "Epoch 1/5\n",
            "1719/1719 [==============================] - 11s 4ms/step - loss: 0.7240 - accuracy: 0.7629 - val_loss: 0.5114 - val_accuracy: 0.8234\n",
            "Epoch 2/5\n",
            "1719/1719 [==============================] - 5s 3ms/step - loss: 0.4894 - accuracy: 0.8303 - val_loss: 0.4423 - val_accuracy: 0.8512\n",
            "Epoch 3/5\n",
            "1719/1719 [==============================] - 6s 4ms/step - loss: 0.4447 - accuracy: 0.8440 - val_loss: 0.4308 - val_accuracy: 0.8548\n",
            "Epoch 4/5\n",
            "1719/1719 [==============================] - 5s 3ms/step - loss: 0.4178 - accuracy: 0.8525 - val_loss: 0.4069 - val_accuracy: 0.8628\n",
            "Epoch 5/5\n",
            "1719/1719 [==============================] - 6s 3ms/step - loss: 0.3954 - accuracy: 0.8610 - val_loss: 0.3855 - val_accuracy: 0.8678\n"
          ]
        }
      ]
    },
    {
      "cell_type": "code",
      "metadata": {
        "colab": {
          "base_uri": "https://localhost:8080/"
        },
        "id": "6u_GjA9eHyJQ",
        "outputId": "e673ba0e-dec6-420d-f051-76e995bb43ab"
      },
      "source": [
        "55000 / 16"
      ],
      "execution_count": 25,
      "outputs": [
        {
          "output_type": "execute_result",
          "data": {
            "text/plain": [
              "3437.5"
            ]
          },
          "metadata": {},
          "execution_count": 25
        }
      ]
    },
    {
      "cell_type": "code",
      "metadata": {
        "colab": {
          "base_uri": "https://localhost:8080/"
        },
        "id": "LzUQ-cQwH-fm",
        "outputId": "40d587d6-9ba2-4235-c134-bdb0869bf0cf"
      },
      "source": [
        "model.evaluate(X_test, y_test)"
      ],
      "execution_count": 26,
      "outputs": [
        {
          "output_type": "stream",
          "name": "stdout",
          "text": [
            "313/313 [==============================] - 1s 3ms/step - loss: 0.4225 - accuracy: 0.8515\n"
          ]
        },
        {
          "output_type": "execute_result",
          "data": {
            "text/plain": [
              "[0.4224550426006317, 0.8514999747276306]"
            ]
          },
          "metadata": {},
          "execution_count": 26
        }
      ]
    },
    {
      "cell_type": "code",
      "metadata": {
        "colab": {
          "base_uri": "https://localhost:8080/",
          "height": 206
        },
        "id": "8tb0CR5JKMtN",
        "outputId": "8aa2e01f-93e2-4235-b0da-d59632312a40"
      },
      "source": [
        "pd.DataFrame(history.history)"
      ],
      "execution_count": 27,
      "outputs": [
        {
          "output_type": "execute_result",
          "data": {
            "text/plain": [
              "       loss  accuracy  val_loss  val_accuracy\n",
              "0  0.724050  0.762891  0.511353        0.8234\n",
              "1  0.489387  0.830327  0.442299        0.8512\n",
              "2  0.444711  0.844036  0.430763        0.8548\n",
              "3  0.417771  0.852473  0.406890        0.8628\n",
              "4  0.395421  0.861036  0.385500        0.8678"
            ],
            "text/html": [
              "\n",
              "  <div id=\"df-fe4b162e-7594-4880-82c4-7e14ca4a8eaf\">\n",
              "    <div class=\"colab-df-container\">\n",
              "      <div>\n",
              "<style scoped>\n",
              "    .dataframe tbody tr th:only-of-type {\n",
              "        vertical-align: middle;\n",
              "    }\n",
              "\n",
              "    .dataframe tbody tr th {\n",
              "        vertical-align: top;\n",
              "    }\n",
              "\n",
              "    .dataframe thead th {\n",
              "        text-align: right;\n",
              "    }\n",
              "</style>\n",
              "<table border=\"1\" class=\"dataframe\">\n",
              "  <thead>\n",
              "    <tr style=\"text-align: right;\">\n",
              "      <th></th>\n",
              "      <th>loss</th>\n",
              "      <th>accuracy</th>\n",
              "      <th>val_loss</th>\n",
              "      <th>val_accuracy</th>\n",
              "    </tr>\n",
              "  </thead>\n",
              "  <tbody>\n",
              "    <tr>\n",
              "      <th>0</th>\n",
              "      <td>0.724050</td>\n",
              "      <td>0.762891</td>\n",
              "      <td>0.511353</td>\n",
              "      <td>0.8234</td>\n",
              "    </tr>\n",
              "    <tr>\n",
              "      <th>1</th>\n",
              "      <td>0.489387</td>\n",
              "      <td>0.830327</td>\n",
              "      <td>0.442299</td>\n",
              "      <td>0.8512</td>\n",
              "    </tr>\n",
              "    <tr>\n",
              "      <th>2</th>\n",
              "      <td>0.444711</td>\n",
              "      <td>0.844036</td>\n",
              "      <td>0.430763</td>\n",
              "      <td>0.8548</td>\n",
              "    </tr>\n",
              "    <tr>\n",
              "      <th>3</th>\n",
              "      <td>0.417771</td>\n",
              "      <td>0.852473</td>\n",
              "      <td>0.406890</td>\n",
              "      <td>0.8628</td>\n",
              "    </tr>\n",
              "    <tr>\n",
              "      <th>4</th>\n",
              "      <td>0.395421</td>\n",
              "      <td>0.861036</td>\n",
              "      <td>0.385500</td>\n",
              "      <td>0.8678</td>\n",
              "    </tr>\n",
              "  </tbody>\n",
              "</table>\n",
              "</div>\n",
              "      <button class=\"colab-df-convert\" onclick=\"convertToInteractive('df-fe4b162e-7594-4880-82c4-7e14ca4a8eaf')\"\n",
              "              title=\"Convert this dataframe to an interactive table.\"\n",
              "              style=\"display:none;\">\n",
              "        \n",
              "  <svg xmlns=\"http://www.w3.org/2000/svg\" height=\"24px\"viewBox=\"0 0 24 24\"\n",
              "       width=\"24px\">\n",
              "    <path d=\"M0 0h24v24H0V0z\" fill=\"none\"/>\n",
              "    <path d=\"M18.56 5.44l.94 2.06.94-2.06 2.06-.94-2.06-.94-.94-2.06-.94 2.06-2.06.94zm-11 1L8.5 8.5l.94-2.06 2.06-.94-2.06-.94L8.5 2.5l-.94 2.06-2.06.94zm10 10l.94 2.06.94-2.06 2.06-.94-2.06-.94-.94-2.06-.94 2.06-2.06.94z\"/><path d=\"M17.41 7.96l-1.37-1.37c-.4-.4-.92-.59-1.43-.59-.52 0-1.04.2-1.43.59L10.3 9.45l-7.72 7.72c-.78.78-.78 2.05 0 2.83L4 21.41c.39.39.9.59 1.41.59.51 0 1.02-.2 1.41-.59l7.78-7.78 2.81-2.81c.8-.78.8-2.07 0-2.86zM5.41 20L4 18.59l7.72-7.72 1.47 1.35L5.41 20z\"/>\n",
              "  </svg>\n",
              "      </button>\n",
              "      \n",
              "  <style>\n",
              "    .colab-df-container {\n",
              "      display:flex;\n",
              "      flex-wrap:wrap;\n",
              "      gap: 12px;\n",
              "    }\n",
              "\n",
              "    .colab-df-convert {\n",
              "      background-color: #E8F0FE;\n",
              "      border: none;\n",
              "      border-radius: 50%;\n",
              "      cursor: pointer;\n",
              "      display: none;\n",
              "      fill: #1967D2;\n",
              "      height: 32px;\n",
              "      padding: 0 0 0 0;\n",
              "      width: 32px;\n",
              "    }\n",
              "\n",
              "    .colab-df-convert:hover {\n",
              "      background-color: #E2EBFA;\n",
              "      box-shadow: 0px 1px 2px rgba(60, 64, 67, 0.3), 0px 1px 3px 1px rgba(60, 64, 67, 0.15);\n",
              "      fill: #174EA6;\n",
              "    }\n",
              "\n",
              "    [theme=dark] .colab-df-convert {\n",
              "      background-color: #3B4455;\n",
              "      fill: #D2E3FC;\n",
              "    }\n",
              "\n",
              "    [theme=dark] .colab-df-convert:hover {\n",
              "      background-color: #434B5C;\n",
              "      box-shadow: 0px 1px 3px 1px rgba(0, 0, 0, 0.15);\n",
              "      filter: drop-shadow(0px 1px 2px rgba(0, 0, 0, 0.3));\n",
              "      fill: #FFFFFF;\n",
              "    }\n",
              "  </style>\n",
              "\n",
              "      <script>\n",
              "        const buttonEl =\n",
              "          document.querySelector('#df-fe4b162e-7594-4880-82c4-7e14ca4a8eaf button.colab-df-convert');\n",
              "        buttonEl.style.display =\n",
              "          google.colab.kernel.accessAllowed ? 'block' : 'none';\n",
              "\n",
              "        async function convertToInteractive(key) {\n",
              "          const element = document.querySelector('#df-fe4b162e-7594-4880-82c4-7e14ca4a8eaf');\n",
              "          const dataTable =\n",
              "            await google.colab.kernel.invokeFunction('convertToInteractive',\n",
              "                                                     [key], {});\n",
              "          if (!dataTable) return;\n",
              "\n",
              "          const docLinkHtml = 'Like what you see? Visit the ' +\n",
              "            '<a target=\"_blank\" href=https://colab.research.google.com/notebooks/data_table.ipynb>data table notebook</a>'\n",
              "            + ' to learn more about interactive tables.';\n",
              "          element.innerHTML = '';\n",
              "          dataTable['output_type'] = 'display_data';\n",
              "          await google.colab.output.renderOutput(dataTable, element);\n",
              "          const docLink = document.createElement('div');\n",
              "          docLink.innerHTML = docLinkHtml;\n",
              "          element.appendChild(docLink);\n",
              "        }\n",
              "      </script>\n",
              "    </div>\n",
              "  </div>\n",
              "  "
            ]
          },
          "metadata": {},
          "execution_count": 27
        }
      ]
    },
    {
      "cell_type": "code",
      "metadata": {
        "colab": {
          "base_uri": "https://localhost:8080/",
          "height": 324
        },
        "id": "vJXocgdQKRmd",
        "outputId": "83975b8f-f0f5-4a08-f7b1-b6de4746f8d0"
      },
      "source": [
        "pd.DataFrame(history.history).plot(figsize=(8,5))\n",
        "plt.grid(True)\n",
        "plt.gca().set_ylim(0,1)\n",
        "plt.show()"
      ],
      "execution_count": 28,
      "outputs": [
        {
          "output_type": "display_data",
          "data": {
            "text/plain": [
              "<Figure size 576x360 with 1 Axes>"
            ],
            "image/png": "[encoded data removed]"
          },
          "metadata": {
            "needs_background": "light"
          }
        }
      ]
    },
    {
      "cell_type": "markdown",
      "metadata": {
        "id": "80RXEPyUWouV"
      },
      "source": [
        "## BN Approach one"
      ]
    },
    {
      "cell_type": "code",
      "metadata": {
        "id": "9DAOxwRLL3ta"
      },
      "source": [
        "del model"
      ],
      "execution_count": 29,
      "outputs": []
    },
    {
      "cell_type": "code",
      "metadata": {
        "id": "dngnD392W7P_"
      },
      "source": [
        "LAYER_BN_ONE = [\n",
        "          tf.keras.layers.Flatten(input_shape=[28, 28], name=\"inputLayer\"),\n",
        "          tf.keras.layers.BatchNormalization(),\n",
        "          tf.keras.layers.Dense(300, activation=\"relu\", name=\"hiddenLayer1\"),\n",
        "          tf.keras.layers.BatchNormalization(),\n",
        "          tf.keras.layers.Dense(100, activation=\"relu\", name=\"hiddenLayer2\"),\n",
        "          tf.keras.layers.BatchNormalization(),\n",
        "          tf.keras.layers.Dense(10, activation=\"softmax\", name=\"outputLayer\"),\n",
        "          \n",
        "]"
      ],
      "execution_count": 30,
      "outputs": []
    },
    {
      "cell_type": "code",
      "metadata": {
        "id": "oxLjCd3MW7QA"
      },
      "source": [
        "model = tf.keras.models.Sequential(LAYER_BN_ONE)"
      ],
      "execution_count": 31,
      "outputs": []
    },
    {
      "cell_type": "code",
      "metadata": {
        "colab": {
          "base_uri": "https://localhost:8080/"
        },
        "id": "Rb6cY_wBW7QA",
        "outputId": "ce1f5de6-90ab-4ac9-a57a-64c3222394a5"
      },
      "source": [
        "model.layers"
      ],
      "execution_count": 32,
      "outputs": [
        {
          "output_type": "execute_result",
          "data": {
            "text/plain": [
              "[<keras.layers.reshaping.flatten.Flatten at 0x7fc204057c70>,\n",
              " <keras.layers.normalization.batch_normalization.BatchNormalization at 0x7fc204057f10>,\n",
              " <keras.layers.core.dense.Dense at 0x7fc20c0d0490>,\n",
              " <keras.layers.normalization.batch_normalization.BatchNormalization at 0x7fc20412fdc0>,\n",
              " <keras.layers.core.dense.Dense at 0x7fc204035e20>,\n",
              " <keras.layers.normalization.batch_normalization.BatchNormalization at 0x7fc2041146d0>,\n",
              " <keras.layers.core.dense.Dense at 0x7fc1ef77c040>]"
            ]
          },
          "metadata": {},
          "execution_count": 32
        }
      ]
    },
    {
      "cell_type": "code",
      "metadata": {
        "colab": {
          "base_uri": "https://localhost:8080/"
        },
        "id": "O_0Ct4mjW7QA",
        "outputId": "15302466-a50a-49e4-de45-569adfaeebb5"
      },
      "source": [
        "model.summary()"
      ],
      "execution_count": 33,
      "outputs": [
        {
          "output_type": "stream",
          "name": "stdout",
          "text": [
            "Model: \"sequential_1\"\n",
            "_________________________________________________________________\n",
            " Layer (type)                Output Shape              Param #   \n",
            "=================================================================\n",
            " inputLayer (Flatten)        (None, 784)               0         \n",
            "                                                                 \n",
            " batch_normalization (BatchN  (None, 784)              3136      \n",
            " ormalization)                                                   \n",
            "                                                                 \n",
            " hiddenLayer1 (Dense)        (None, 300)               235500    \n",
            "                                                                 \n",
            " batch_normalization_1 (Batc  (None, 300)              1200      \n",
            " hNormalization)                                                 \n",
            "                                                                 \n",
            " hiddenLayer2 (Dense)        (None, 100)               30100     \n",
            "                                                                 \n",
            " batch_normalization_2 (Batc  (None, 100)              400       \n",
            " hNormalization)                                                 \n",
            "                                                                 \n",
            " outputLayer (Dense)         (None, 10)                1010      \n",
            "                                                                 \n",
            "=================================================================\n",
            "Total params: 271,346\n",
            "Trainable params: 268,978\n",
            "Non-trainable params: 2,368\n",
            "_________________________________________________________________\n"
          ]
        }
      ]
    },
    {
      "cell_type": "code",
      "metadata": {
        "colab": {
          "base_uri": "https://localhost:8080/"
        },
        "id": "nHs8cS0iXY96",
        "outputId": "e6e8a751-2913-4d9d-dbdc-fc2dbdcf930e"
      },
      "source": [
        "784 * 4, 300 * 4, 100 * 4"
      ],
      "execution_count": 34,
      "outputs": [
        {
          "output_type": "execute_result",
          "data": {
            "text/plain": [
              "(3136, 1200, 400)"
            ]
          },
          "metadata": {},
          "execution_count": 34
        }
      ]
    },
    {
      "cell_type": "code",
      "metadata": {
        "colab": {
          "base_uri": "https://localhost:8080/"
        },
        "id": "pRrH47WjXjLy",
        "outputId": "d13c8834-d8d0-4279-eccf-ed5ea0dc54c9"
      },
      "source": [
        "BN_params = sum([784 * 4, 300 * 4, 100 * 4])\n",
        "BN_params"
      ],
      "execution_count": 35,
      "outputs": [
        {
          "output_type": "execute_result",
          "data": {
            "text/plain": [
              "4736"
            ]
          },
          "metadata": {},
          "execution_count": 35
        }
      ]
    },
    {
      "cell_type": "code",
      "metadata": {
        "colab": {
          "base_uri": "https://localhost:8080/"
        },
        "id": "qG5wUp6WXn8J",
        "outputId": "a3ad6595-a0cf-4e3e-dfba-021b953eb4a8"
      },
      "source": [
        "Trainable_BN_params = sum([784 * 4, 300 * 4, 100 * 4])/2\n",
        "Trainable_BN_params ## Gamma, Beta"
      ],
      "execution_count": 36,
      "outputs": [
        {
          "output_type": "execute_result",
          "data": {
            "text/plain": [
              "2368.0"
            ]
          },
          "metadata": {},
          "execution_count": 36
        }
      ]
    },
    {
      "cell_type": "code",
      "metadata": {
        "colab": {
          "base_uri": "https://localhost:8080/"
        },
        "id": "YU8KnQqvXr7e",
        "outputId": "2f6e832a-5e34-4e87-d4aa-3352fcee3bdb"
      },
      "source": [
        "Non_Trainable_BN_params = BN_params - Trainable_BN_params\n",
        "Non_Trainable_BN_params ## Mean, std deviation"
      ],
      "execution_count": 37,
      "outputs": [
        {
          "output_type": "execute_result",
          "data": {
            "text/plain": [
              "2368.0"
            ]
          },
          "metadata": {},
          "execution_count": 37
        }
      ]
    },
    {
      "cell_type": "code",
      "metadata": {
        "id": "OmWI0NQjW7QA"
      },
      "source": [
        "LOSS_FUNCTION = \"sparse_categorical_crossentropy\"\n",
        "OPTIMIZER = \"SGD\"\n",
        "METRICS = [\"accuracy\"]\n",
        "\n",
        "model.compile(loss=LOSS_FUNCTION,\n",
        "              optimizer=OPTIMIZER,\n",
        "              metrics=METRICS)\n"
      ],
      "execution_count": 38,
      "outputs": []
    },
    {
      "cell_type": "code",
      "metadata": {
        "colab": {
          "base_uri": "https://localhost:8080/"
        },
        "id": "AceAJ_uzW7QB",
        "outputId": "940c354a-bc3f-48d8-82cc-8ba54619e794"
      },
      "source": [
        "EPOCHS = 5\n",
        "VALIDATION_SET = (X_valid, y_valid)\n",
        "\n",
        "history = model.fit(X_train, y_train, \n",
        "                    epochs=EPOCHS, \n",
        "                    validation_data=VALIDATION_SET)"
      ],
      "execution_count": 39,
      "outputs": [
        {
          "output_type": "stream",
          "name": "stdout",
          "text": [
            "Epoch 1/5\n",
            "1719/1719 [==============================] - 10s 5ms/step - loss: 0.5350 - accuracy: 0.8138 - val_loss: 0.3864 - val_accuracy: 0.8676\n",
            "Epoch 2/5\n",
            "1719/1719 [==============================] - 9s 5ms/step - loss: 0.3930 - accuracy: 0.8602 - val_loss: 0.3577 - val_accuracy: 0.8776\n",
            "Epoch 3/5\n",
            "1719/1719 [==============================] - 9s 5ms/step - loss: 0.3532 - accuracy: 0.8725 - val_loss: 0.3352 - val_accuracy: 0.8814\n",
            "Epoch 4/5\n",
            "1719/1719 [==============================] - 9s 5ms/step - loss: 0.3262 - accuracy: 0.8814 - val_loss: 0.3260 - val_accuracy: 0.8822\n",
            "Epoch 5/5\n",
            "1719/1719 [==============================] - 8s 5ms/step - loss: 0.3065 - accuracy: 0.8887 - val_loss: 0.3158 - val_accuracy: 0.8858\n"
          ]
        }
      ]
    },
    {
      "cell_type": "markdown",
      "metadata": {
        "id": "KlNRyCrwYYej"
      },
      "source": [
        "## BN Approach 2"
      ]
    },
    {
      "cell_type": "code",
      "metadata": {
        "id": "94ZeZSsDYe8_"
      },
      "source": [
        "del model"
      ],
      "execution_count": 40,
      "outputs": []
    },
    {
      "cell_type": "code",
      "metadata": {
        "id": "Q_B8_VTYYe8_"
      },
      "source": [
        "LAYER_BN_TWO = [\n",
        "          tf.keras.layers.Flatten(input_shape=[28, 28], name=\"inputLayer\"),\n",
        "          tf.keras.layers.BatchNormalization(),\n",
        "          tf.keras.layers.Dense(300, name=\"hiddenLayer1\"),\n",
        "          tf.keras.layers.BatchNormalization(),\n",
        "          tf.keras.layers.Activation(\"relu\"),\n",
        "          tf.keras.layers.Dense(100, name=\"hiddenLayer2\"),\n",
        "          tf.keras.layers.BatchNormalization(),\n",
        "          tf.keras.layers.Activation(\"relu\"),\n",
        "          tf.keras.layers.Dense(10, activation=\"softmax\", name=\"outputLayer\"),\n",
        "          \n",
        "]"
      ],
      "execution_count": 41,
      "outputs": []
    },
    {
      "cell_type": "code",
      "metadata": {
        "id": "PZ4AYGFQYe8_"
      },
      "source": [
        "model = tf.keras.models.Sequential(LAYER_BN_TWO)"
      ],
      "execution_count": 42,
      "outputs": []
    },
    {
      "cell_type": "code",
      "metadata": {
        "colab": {
          "base_uri": "https://localhost:8080/"
        },
        "id": "JKM0Gwm5Ye8_",
        "outputId": "f14bdcd8-72dd-4d3d-fb62-a0ffbdb06178"
      },
      "source": [
        "model.layers"
      ],
      "execution_count": 43,
      "outputs": [
        {
          "output_type": "execute_result",
          "data": {
            "text/plain": [
              "[<keras.layers.reshaping.flatten.Flatten at 0x7fc1ec514850>,\n",
              " <keras.layers.normalization.batch_normalization.BatchNormalization at 0x7fc1ec514a90>,\n",
              " <keras.layers.core.dense.Dense at 0x7fc2040670d0>,\n",
              " <keras.layers.normalization.batch_normalization.BatchNormalization at 0x7fc1ec514e80>,\n",
              " <keras.layers.core.activation.Activation at 0x7fc1ef7b0640>,\n",
              " <keras.layers.core.dense.Dense at 0x7fc1ec520070>,\n",
              " <keras.layers.normalization.batch_normalization.BatchNormalization at 0x7fc1ec520160>,\n",
              " <keras.layers.core.activation.Activation at 0x7fc1ec520520>,\n",
              " <keras.layers.core.dense.Dense at 0x7fc1ec520ac0>]"
            ]
          },
          "metadata": {},
          "execution_count": 43
        }
      ]
    },
    {
      "cell_type": "code",
      "metadata": {
        "colab": {
          "base_uri": "https://localhost:8080/"
        },
        "id": "dPcLRWilY1Vt",
        "outputId": "c3bbc904-f0a8-40cc-c601-a62a72abf3df"
      },
      "source": [
        "BN_layer_1 = model.layers[1]\n",
        "BN_layer_1"
      ],
      "execution_count": 44,
      "outputs": [
        {
          "output_type": "execute_result",
          "data": {
            "text/plain": [
              "<keras.layers.normalization.batch_normalization.BatchNormalization at 0x7fc1ec514a90>"
            ]
          },
          "metadata": {},
          "execution_count": 44
        }
      ]
    },
    {
      "cell_type": "code",
      "metadata": {
        "colab": {
          "base_uri": "https://localhost:8080/"
        },
        "id": "1wBDL7EMY8Kc",
        "outputId": "921d68de-743d-4f89-8184-0dac37086d4d"
      },
      "source": [
        "for variable in BN_layer_1.variables:\n",
        "  print(variable.name, variable.trainable)"
      ],
      "execution_count": null,
      "outputs": [
        {
          "output_type": "stream",
          "name": "stdout",
          "text": [
            "batch_normalization_6/gamma:0 True\n",
            "batch_normalization_6/beta:0 True\n",
            "batch_normalization_6/moving_mean:0 False\n",
            "batch_normalization_6/moving_variance:0 False\n"
          ]
        }
      ]
    },
    {
      "cell_type": "code",
      "metadata": {
        "colab": {
          "base_uri": "https://localhost:8080/"
        },
        "id": "uDixqhBoYe8_",
        "outputId": "8feb897b-d41a-4277-cec2-ff94ee7611c4"
      },
      "source": [
        "model.summary()"
      ],
      "execution_count": 45,
      "outputs": [
        {
          "output_type": "stream",
          "name": "stdout",
          "text": [
            "Model: \"sequential_2\"\n",
            "_________________________________________________________________\n",
            " Layer (type)                Output Shape              Param #   \n",
            "=================================================================\n",
            " inputLayer (Flatten)        (None, 784)               0         \n",
            "                                                                 \n",
            " batch_normalization_3 (Batc  (None, 784)              3136      \n",
            " hNormalization)                                                 \n",
            "                                                                 \n",
            " hiddenLayer1 (Dense)        (None, 300)               235500    \n",
            "                                                                 \n",
            " batch_normalization_4 (Batc  (None, 300)              1200      \n",
            " hNormalization)                                                 \n",
            "                                                                 \n",
            " activation (Activation)     (None, 300)               0         \n",
            "                                                                 \n",
            " hiddenLayer2 (Dense)        (None, 100)               30100     \n",
            "                                                                 \n",
            " batch_normalization_5 (Batc  (None, 100)              400       \n",
            " hNormalization)                                                 \n",
            "                                                                 \n",
            " activation_1 (Activation)   (None, 100)               0         \n",
            "                                                                 \n",
            " outputLayer (Dense)         (None, 10)                1010      \n",
            "                                                                 \n",
            "=================================================================\n",
            "Total params: 271,346\n",
            "Trainable params: 268,978\n",
            "Non-trainable params: 2,368\n",
            "_________________________________________________________________\n"
          ]
        }
      ]
    },
    {
      "cell_type": "code",
      "metadata": {
        "colab": {
          "base_uri": "https://localhost:8080/"
        },
        "id": "LOAErcKyYe9A",
        "outputId": "e2d271ab-5b9c-45c0-8d7f-1f9b991125cf"
      },
      "source": [
        "784 * 4, 300 * 4, 100 * 4"
      ],
      "execution_count": 46,
      "outputs": [
        {
          "output_type": "execute_result",
          "data": {
            "text/plain": [
              "(3136, 1200, 400)"
            ]
          },
          "metadata": {},
          "execution_count": 46
        }
      ]
    },
    {
      "cell_type": "code",
      "metadata": {
        "colab": {
          "base_uri": "https://localhost:8080/"
        },
        "id": "DF_Xx5n6Ye9A",
        "outputId": "13d30772-033b-4c49-9a84-682196ac1187"
      },
      "source": [
        "BN_params = sum([784 * 4, 300 * 4, 100 * 4])\n",
        "BN_params"
      ],
      "execution_count": 47,
      "outputs": [
        {
          "output_type": "execute_result",
          "data": {
            "text/plain": [
              "4736"
            ]
          },
          "metadata": {},
          "execution_count": 47
        }
      ]
    },
    {
      "cell_type": "code",
      "metadata": {
        "colab": {
          "base_uri": "https://localhost:8080/"
        },
        "id": "5HBU-5K5Ye9A",
        "outputId": "070b7b04-fb49-4318-ced5-6df78c66761b"
      },
      "source": [
        "Trainable_BN_params = sum([784 * 4, 300 * 4, 100 * 4])/2\n",
        "Trainable_BN_params ## Gamma, Beta"
      ],
      "execution_count": 48,
      "outputs": [
        {
          "output_type": "execute_result",
          "data": {
            "text/plain": [
              "2368.0"
            ]
          },
          "metadata": {},
          "execution_count": 48
        }
      ]
    },
    {
      "cell_type": "code",
      "metadata": {
        "colab": {
          "base_uri": "https://localhost:8080/"
        },
        "id": "oRSaep73Ye9A",
        "outputId": "352a7815-3b70-4a31-8840-5d988eca4416"
      },
      "source": [
        "Non_Trainable_BN_params = BN_params - Trainable_BN_params\n",
        "Non_Trainable_BN_params ## Mean, std deviation"
      ],
      "execution_count": 49,
      "outputs": [
        {
          "output_type": "execute_result",
          "data": {
            "text/plain": [
              "2368.0"
            ]
          },
          "metadata": {},
          "execution_count": 49
        }
      ]
    },
    {
      "cell_type": "code",
      "metadata": {
        "id": "wjF-Y3KfYe9A"
      },
      "source": [
        "LOSS_FUNCTION = \"sparse_categorical_crossentropy\"\n",
        "OPTIMIZER = \"SGD\"\n",
        "METRICS = [\"accuracy\"]\n",
        "\n",
        "model.compile(loss=LOSS_FUNCTION,\n",
        "              optimizer=OPTIMIZER,\n",
        "              metrics=METRICS)\n"
      ],
      "execution_count": 50,
      "outputs": []
    },
    {
      "cell_type": "code",
      "metadata": {
        "colab": {
          "base_uri": "https://localhost:8080/"
        },
        "id": "vTym3le0Ye9A",
        "outputId": "f6da0f5c-e185-415e-a6bc-93fba8dbb5c0"
      },
      "source": [
        "EPOCHS = 5\n",
        "VALIDATION_SET = (X_valid, y_valid)\n",
        "\n",
        "history = model.fit(X_train, y_train, \n",
        "                    epochs=EPOCHS, \n",
        "                    validation_data=VALIDATION_SET)"
      ],
      "execution_count": 51,
      "outputs": [
        {
          "output_type": "stream",
          "name": "stdout",
          "text": [
            "Epoch 1/5\n",
            "1719/1719 [==============================] - 10s 5ms/step - loss: 0.5832 - accuracy: 0.8040 - val_loss: 0.3963 - val_accuracy: 0.8622\n",
            "Epoch 2/5\n",
            "1719/1719 [==============================] - 9s 5ms/step - loss: 0.4134 - accuracy: 0.8545 - val_loss: 0.3553 - val_accuracy: 0.8744\n",
            "Epoch 3/5\n",
            "1719/1719 [==============================] - 9s 5ms/step - loss: 0.3728 - accuracy: 0.8673 - val_loss: 0.3379 - val_accuracy: 0.8812\n",
            "Epoch 4/5\n",
            "1719/1719 [==============================] - 9s 5ms/step - loss: 0.3420 - accuracy: 0.8782 - val_loss: 0.3267 - val_accuracy: 0.8816\n",
            "Epoch 5/5\n",
            "1719/1719 [==============================] - 9s 5ms/step - loss: 0.3200 - accuracy: 0.8869 - val_loss: 0.3242 - val_accuracy: 0.8842\n"
          ]
        }
      ]
    },
    {
      "cell_type": "code",
      "source": [],
      "metadata": {
        "id": "7UVo9HETFAf1"
      },
      "execution_count": null,
      "outputs": []
    }
  ]
}