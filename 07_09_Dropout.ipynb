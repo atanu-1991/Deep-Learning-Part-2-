{
  "nbformat": 4,
  "nbformat_minor": 0,
  "metadata": {
    "colab": {
      "provenance": []
    },
    "kernelspec": {
      "name": "python3",
      "display_name": "Python 3"
    },
    "language_info": {
      "name": "python"
    },
    "accelerator": "GPU",
    "gpuClass": "standard"
  },
  "cells": [
    {
      "cell_type": "markdown",
      "metadata": {
        "id": "_CBBo-q5-Xr1"
      },
      "source": [
        "## Bernouli Random Variable"
      ]
    },
    {
      "cell_type": "code",
      "metadata": {
        "id": "AYknCZZb4KSj"
      },
      "source": [
        "import tensorflow_probability as tfp\n",
        "import tensorflow as tf\n"
      ],
      "execution_count": 1,
      "outputs": []
    },
    {
      "cell_type": "code",
      "metadata": {
        "id": "Rwav4Wrt4Sk0"
      },
      "source": [
        "keeping_prob = 0.7\n",
        "r = tfp.distributions.Bernoulli(probs=keeping_prob, dtype=tf.float32).sample(sample_shape=(10, 1))"
      ],
      "execution_count": 2,
      "outputs": []
    },
    {
      "cell_type": "code",
      "metadata": {
        "colab": {
          "base_uri": "https://localhost:8080/"
        },
        "id": "B-XkUthE4fY0",
        "outputId": "4e04f193-d066-4b39-c2d2-88cea4abbbe5"
      },
      "source": [
        "r"
      ],
      "execution_count": 3,
      "outputs": [
        {
          "output_type": "execute_result",
          "data": {
            "text/plain": [
              "<tf.Tensor: shape=(10, 1), dtype=float32, numpy=\n",
              "array([[1.],\n",
              "       [1.],\n",
              "       [1.],\n",
              "       [1.],\n",
              "       [1.],\n",
              "       [1.],\n",
              "       [1.],\n",
              "       [1.],\n",
              "       [1.],\n",
              "       [1.]], dtype=float32)>"
            ]
          },
          "metadata": {},
          "execution_count": 3
        }
      ]
    },
    {
      "cell_type": "code",
      "metadata": {
        "colab": {
          "base_uri": "https://localhost:8080/"
        },
        "id": "y9tpdQQX4j_b",
        "outputId": "d0014727-c5ac-4eb6-ab9a-efb400d6d856"
      },
      "source": [
        "y_prev = tf.random.normal((10, 1))\n",
        "y_prev"
      ],
      "execution_count": 4,
      "outputs": [
        {
          "output_type": "execute_result",
          "data": {
            "text/plain": [
              "<tf.Tensor: shape=(10, 1), dtype=float32, numpy=\n",
              "array([[ 0.5753791 ],\n",
              "       [-0.29427227],\n",
              "       [-2.0712514 ],\n",
              "       [ 0.49229527],\n",
              "       [ 0.8906307 ],\n",
              "       [ 0.19561787],\n",
              "       [ 1.3166436 ],\n",
              "       [-0.97330767],\n",
              "       [ 0.37950498],\n",
              "       [-0.521497  ]], dtype=float32)>"
            ]
          },
          "metadata": {},
          "execution_count": 4
        }
      ]
    },
    {
      "cell_type": "code",
      "metadata": {
        "colab": {
          "base_uri": "https://localhost:8080/"
        },
        "id": "NbcWGgf86aLq",
        "outputId": "80f1c716-803d-4169-e5ca-47456127d856"
      },
      "source": [
        "y_new = tf.math.multiply(y_prev, r)\n",
        "y_new"
      ],
      "execution_count": 5,
      "outputs": [
        {
          "output_type": "execute_result",
          "data": {
            "text/plain": [
              "<tf.Tensor: shape=(10, 1), dtype=float32, numpy=\n",
              "array([[ 0.5753791 ],\n",
              "       [-0.29427227],\n",
              "       [-2.0712514 ],\n",
              "       [ 0.49229527],\n",
              "       [ 0.8906307 ],\n",
              "       [ 0.19561787],\n",
              "       [ 1.3166436 ],\n",
              "       [-0.97330767],\n",
              "       [ 0.37950498],\n",
              "       [-0.521497  ]], dtype=float32)>"
            ]
          },
          "metadata": {},
          "execution_count": 5
        }
      ]
    },
    {
      "cell_type": "markdown",
      "metadata": {
        "id": "eivhzI3o-fww"
      },
      "source": [
        "## Use Dropout Layer"
      ]
    },
    {
      "cell_type": "code",
      "metadata": {
        "id": "CEPIgOQ-6iCb"
      },
      "source": [
        "from tensorflow import keras"
      ],
      "execution_count": 6,
      "outputs": []
    },
    {
      "cell_type": "code",
      "source": [],
      "metadata": {
        "id": "3v9MiiAZ3TF8"
      },
      "execution_count": 6,
      "outputs": []
    },
    {
      "cell_type": "code",
      "metadata": {
        "id": "HpJCdOL8JVY8"
      },
      "source": [
        "model = keras.models.Sequential([\n",
        "    keras.layers.Flatten(input_shape=[28, 28]),\n",
        "    keras.layers.Dropout(rate=0.5),\n",
        "    keras.layers.Dense(300, activation=\"elu\", kernel_initializer=\"he_normal\"),\n",
        "    keras.layers.Dropout(rate=0.5),\n",
        "    keras.layers.Dense(100, activation=\"elu\", kernel_initializer=\"he_normal\"),\n",
        "    keras.layers.Dropout(rate=0.5),\n",
        "    keras.layers.Dense(10, activation=\"softmax\")\n",
        "])\n",
        "model.compile(loss=\"sparse_categorical_crossentropy\", optimizer=\"nadam\", metrics=[\"accuracy\"])\n",
        "# n_epochs = 2\n",
        "# history = model.fit(X_train_scaled, y_train, epochs=n_epochs,\n",
        "#                     validation_data=(X_valid_scaled, y_valid))"
      ],
      "execution_count": 7,
      "outputs": []
    },
    {
      "cell_type": "code",
      "metadata": {
        "colab": {
          "base_uri": "https://localhost:8080/"
        },
        "id": "6FtEAJ3idk2j",
        "outputId": "08e2a137-79e0-48f4-d48f-483387c7a46a"
      },
      "source": [
        "model.summary()\n"
      ],
      "execution_count": 8,
      "outputs": [
        {
          "output_type": "stream",
          "name": "stdout",
          "text": [
            "Model: \"sequential\"\n",
            "_________________________________________________________________\n",
            " Layer (type)                Output Shape              Param #   \n",
            "=================================================================\n",
            " flatten (Flatten)           (None, 784)               0         \n",
            "                                                                 \n",
            " dropout (Dropout)           (None, 784)               0         \n",
            "                                                                 \n",
            " dense (Dense)               (None, 300)               235500    \n",
            "                                                                 \n",
            " dropout_1 (Dropout)         (None, 300)               0         \n",
            "                                                                 \n",
            " dense_1 (Dense)             (None, 100)               30100     \n",
            "                                                                 \n",
            " dropout_2 (Dropout)         (None, 100)               0         \n",
            "                                                                 \n",
            " dense_2 (Dense)             (None, 10)                1010      \n",
            "                                                                 \n",
            "=================================================================\n",
            "Total params: 266,610\n",
            "Trainable params: 266,610\n",
            "Non-trainable params: 0\n",
            "_________________________________________________________________\n"
          ]
        }
      ]
    },
    {
      "cell_type": "code",
      "source": [],
      "metadata": {
        "id": "yZyq6KIVOANs"
      },
      "execution_count": 8,
      "outputs": []
    }
  ]
}