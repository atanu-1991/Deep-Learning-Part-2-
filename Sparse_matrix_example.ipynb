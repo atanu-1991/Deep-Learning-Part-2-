{
  "nbformat": 4,
  "nbformat_minor": 0,
  "metadata": {
    "colab": {
      "provenance": []
    },
    "kernelspec": {
      "name": "python3",
      "display_name": "Python 3"
    },
    "language_info": {
      "name": "python"
    }
  },
  "cells": [
    {
      "cell_type": "code",
      "execution_count": 1,
      "metadata": {
        "colab": {
          "base_uri": "https://localhost:8080/"
        },
        "id": "NY0gyPNuVncg",
        "outputId": "348e504d-c2f6-4067-a0cf-ca76698baa95"
      },
      "outputs": [
        {
          "output_type": "stream",
          "name": "stdout",
          "text": [
            "[[1 0 0 1 0 0]\n",
            " [0 0 2 0 0 1]\n",
            " [0 0 0 2 0 3]]\n",
            "  (0, 0)\t1\n",
            "  (0, 3)\t1\n",
            "  (1, 2)\t2\n",
            "  (1, 5)\t1\n",
            "  (2, 3)\t2\n",
            "  (2, 5)\t3\n",
            "<class 'scipy.sparse.csr.csr_matrix'>\n",
            "[[1 0 0 1 0 0]\n",
            " [0 0 2 0 0 1]\n",
            " [0 0 0 2 0 3]]\n"
          ]
        }
      ],
      "source": [
        "import numpy as np\n",
        "from scipy.sparse import csr_matrix\n",
        "\n",
        "A = np.array([\n",
        "    [1,0,0,1,0,0],\n",
        "    [0,0,2,0,0,1],\n",
        "    [0,0,0,2,0,3]\n",
        "])\n",
        "\n",
        "print(A)\n",
        "\n",
        "S = csr_matrix(A)\n",
        "print(S)\n",
        "print(type(S))\n",
        "\n",
        "B = S.todense()\n",
        "print(B)"
      ]
    },
    {
      "cell_type": "code",
      "source": [
        "A = np.array([\n",
        "    [1,0,0],\n",
        "    [0,1,0],\n",
        "    [0,0,1]\n",
        "])\n",
        "\n",
        "print(A)\n",
        "\n",
        "S = csr_matrix(A)\n",
        "print(S)\n",
        "print(type(S))\n",
        "\n",
        "B = S.todense()\n",
        "print(B)"
      ],
      "metadata": {
        "colab": {
          "base_uri": "https://localhost:8080/"
        },
        "id": "UZP_mKtgXAnv",
        "outputId": "9c10533c-21c3-4a3a-e75f-2b45da81db8e"
      },
      "execution_count": 2,
      "outputs": [
        {
          "output_type": "stream",
          "name": "stdout",
          "text": [
            "[[1 0 0]\n",
            " [0 1 0]\n",
            " [0 0 1]]\n",
            "  (0, 0)\t1\n",
            "  (1, 1)\t1\n",
            "  (2, 2)\t1\n",
            "<class 'scipy.sparse.csr.csr_matrix'>\n",
            "[[1 0 0]\n",
            " [0 1 0]\n",
            " [0 0 1]]\n"
          ]
        }
      ]
    },
    {
      "cell_type": "code",
      "source": [],
      "metadata": {
        "id": "iVjDGNlYXlrq"
      },
      "execution_count": null,
      "outputs": []
    }
  ]
}